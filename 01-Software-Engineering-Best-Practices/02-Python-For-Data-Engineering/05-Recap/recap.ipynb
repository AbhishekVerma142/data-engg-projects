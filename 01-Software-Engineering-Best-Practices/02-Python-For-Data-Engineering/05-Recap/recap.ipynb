{
 "cells": [
  {
   "cell_type": "markdown",
   "metadata": {},
   "source": [
    "# Recap: Useful Python Concepts"
   ]
  },
  {
   "cell_type": "markdown",
   "metadata": {},
   "source": [
    "## Organizing Code"
   ]
  },
  {
   "cell_type": "markdown",
   "metadata": {},
   "source": [
    "### Decorators"
   ]
  },
  {
   "cell_type": "markdown",
   "metadata": {},
   "source": [
    "Decorators modify or extend the behavior of functions or methods without changing their code. In data engineering, decorators can be used for logging, memoization, or access control."
   ]
  },
  {
   "cell_type": "code",
   "execution_count": null,
   "metadata": {},
   "outputs": [],
   "source": [
    "from datetime import datetime\n",
    "\n",
    "def logger(func):\n",
    "    def wrapper(*args, **kwargs):\n",
    "        # Actions before\n",
    "        print(f\"Calling {func.__name__} with args {args} and kwargs {kwargs}\")\n",
    "        start = datetime.now()\n",
    "        # Calling the decorated function\n",
    "        result = func(*args, **kwargs)\n",
    "        # Actions after\n",
    "        end = datetime.now()\n",
    "        print(f\"Returned {result} in {end - start}\")\n",
    "        # Return the end result\n",
    "        return result\n",
    "    return wrapper\n",
    "\n",
    "@logger\n",
    "def add(a, b, rounding=2):\n",
    "    return round(a + b, rounding)\n",
    "\n",
    "add(1.5, 2)"
   ]
  },
  {
   "cell_type": "code",
   "execution_count": null,
   "metadata": {},
   "outputs": [],
   "source": [
    "@logger\n",
    "def mult(a, b, rounding=2):\n",
    "    return round(a * b, rounding)\n",
    "\n",
    "mult(3, 2)"
   ]
  },
  {
   "cell_type": "markdown",
   "metadata": {},
   "source": [
    "### Decorators with Arguments"
   ]
  },
  {
   "cell_type": "markdown",
   "metadata": {},
   "source": [
    "Decorators with arguments allow you to pass extra information to your decorator, making them more flexible. This is useful in data engineering for dynamically setting behaviors like caching policies or operation modes."
   ]
  },
  {
   "cell_type": "code",
   "execution_count": null,
   "metadata": {},
   "outputs": [],
   "source": [
    "def multiplier(factor):\n",
    "    def decorator(func):\n",
    "        def wrapper(*args, **kwargs):\n",
    "            return func(*args, **kwargs) * factor\n",
    "        return wrapper\n",
    "    return decorator\n",
    "\n",
    "@multiplier(5)\n",
    "def add(a, b):\n",
    "    return a + b\n",
    "\n",
    "print(add(1, 2))"
   ]
  },
  {
   "cell_type": "markdown",
   "metadata": {},
   "source": [
    "### Custom context managers "
   ]
  },
  {
   "cell_type": "markdown",
   "metadata": {},
   "source": [
    "Custom context managers help in abstracting setup and teardown activities, making the code more readable and maintainable. In data engineering, they can manage database connections, temporary files, or other resources efficiently."
   ]
  },
  {
   "cell_type": "markdown",
   "metadata": {},
   "source": [
    "A context manager you already saw before:\n",
    "\n",
    "```python\n",
    "# Without context manager -- Don't do this!\n",
    "file = open(\"somefile\")\n",
    "file.readline()\n",
    "file.close()\n",
    "\n",
    "# With context manager - Now we are sure the file gets closed!\n",
    "with open(\"somefile\") as file:\n",
    "    file.readline()\n",
    "```\n",
    "\n",
    "So, to define your own:"
   ]
  },
  {
   "cell_type": "code",
   "execution_count": null,
   "metadata": {},
   "outputs": [],
   "source": [
    "from contextlib import contextmanager\n",
    "\n",
    "@contextmanager\n",
    "def managed_resource():\n",
    "    print(\"Setup\")\n",
    "    yield\n",
    "    print(\"Teardown\")\n",
    "\n",
    "with managed_resource():\n",
    "    print(\"Do work\")  # Setup -> Do work -> Teardown"
   ]
  },
  {
   "cell_type": "markdown",
   "metadata": {},
   "source": [
    "## Efficient Coding"
   ]
  },
  {
   "cell_type": "markdown",
   "metadata": {},
   "source": [
    "### Generator Expressions"
   ]
  },
  {
   "cell_type": "markdown",
   "metadata": {},
   "source": [
    "Generator expressions provide a memory-efficient way to handle large data sets by yielding items one at a time, instead of loading all into memory. In data engineering, this is useful for streaming and transforming large data files or query results."
   ]
  },
  {
   "cell_type": "code",
   "execution_count": null,
   "metadata": {},
   "outputs": [],
   "source": [
    "list_comp = [x**2 for x in range(10)]\n",
    "for val in list_comp:\n",
    "    print(val)"
   ]
  },
  {
   "cell_type": "code",
   "execution_count": null,
   "metadata": {},
   "outputs": [],
   "source": [
    "gen_exp = (x**2 for x in range(10))\n",
    "for val in gen_exp:\n",
    "    print(val)"
   ]
  },
  {
   "cell_type": "markdown",
   "metadata": {},
   "source": [
    "### Walrus operator"
   ]
  },
  {
   "cell_type": "markdown",
   "metadata": {},
   "source": [
    "The Walrus Operator := allows you to both assign a value to a variable and evaluate it in a single expression. In data engineering tasks like data filtering or transformation, this can reduce redundant calculations, making code more efficient."
   ]
  },
  {
   "cell_type": "markdown",
   "metadata": {},
   "source": [
    "##### Use case 1: simplifying an `if` construction"
   ]
  },
  {
   "cell_type": "code",
   "execution_count": null,
   "metadata": {},
   "outputs": [],
   "source": [
    "# No walrus here\n",
    "tweet_limit = 50\n",
    "some_tweet = \"This is a tweet about the walrus \" + \"blah\" * 50\n",
    "diff = len(some_tweet) - tweet_limit\n",
    "if diff < 0:\n",
    "    print(some_tweet)\n",
    "else:\n",
    "    print(some_tweet[:tweet_limit], f\"[Truncated {diff} characters]\")"
   ]
  },
  {
   "cell_type": "code",
   "execution_count": null,
   "metadata": {},
   "outputs": [],
   "source": [
    "# I am the walrus\n",
    "tweet_limit = 50\n",
    "some_tweet = \"This is a tweet about the walrus \" + \"blah\" * 50\n",
    "if (diff := len(some_tweet) - tweet_limit) < 0:\n",
    "    print(some_tweet)\n",
    "else:\n",
    "    print(some_tweet[:tweet_limit], f\"[Truncated {diff} characters]\")"
   ]
  },
  {
   "cell_type": "markdown",
   "metadata": {},
   "source": [
    "#### Use case 2: speeding up list comprehensions"
   ]
  },
  {
   "cell_type": "code",
   "execution_count": null,
   "metadata": {},
   "outputs": [],
   "source": [
    "%%time\n",
    "from time import sleep\n",
    "def slow_square(n):\n",
    "    sleep(1)\n",
    "    return n**2\n",
    "slow_square(2)"
   ]
  },
  {
   "cell_type": "code",
   "execution_count": null,
   "metadata": {},
   "outputs": [],
   "source": [
    "%%time\n",
    "filtered_data = [(n, slow_square(n)) for n in range(5)]\n",
    "filtered_data"
   ]
  },
  {
   "cell_type": "code",
   "execution_count": null,
   "metadata": {},
   "outputs": [],
   "source": [
    "%%time\n",
    "# Without walrus\n",
    "filtered_data = [(n, slow_square(n)) for n in range(5) if slow_square(n) % 2]\n",
    "filtered_data"
   ]
  },
  {
   "cell_type": "code",
   "execution_count": null,
   "metadata": {},
   "outputs": [],
   "source": [
    "%%time\n",
    "# With walrus\n",
    "filtered_data = [(n, n_squared) for n in range(5) if (n_squared := slow_square(n) % 2)]\n",
    "filtered_data"
   ]
  },
  {
   "cell_type": "markdown",
   "metadata": {},
   "source": [
    "### `defaultdict`"
   ]
  },
  {
   "cell_type": "markdown",
   "metadata": {},
   "source": [
    "`defaultdict` is a subclass of Python's `dict` that returns default values for missing keys. In data engineering, this is useful for building frequency counters, group-by operations, or adjacency lists, where the structure of the dictionary needs to be dynamic."
   ]
  },
  {
   "cell_type": "code",
   "execution_count": null,
   "metadata": {},
   "outputs": [],
   "source": [
    "normal_dict = {}\n",
    "normal_dict['non_existing_key']"
   ]
  },
  {
   "cell_type": "code",
   "execution_count": null,
   "metadata": {},
   "outputs": [],
   "source": [
    "from collections import defaultdict\n",
    "\n",
    "default_dict = defaultdict(int)\n",
    "default_dict['non_existing_key']"
   ]
  },
  {
   "cell_type": "code",
   "execution_count": null,
   "metadata": {},
   "outputs": [],
   "source": [
    "dd = defaultdict(list)\n",
    "dd['key1'].append(1)\n",
    "dd['key2'].append(2)\n",
    "print(dd)"
   ]
  },
  {
   "cell_type": "code",
   "execution_count": null,
   "metadata": {},
   "outputs": [],
   "source": [
    "items = ['a', 'b', 'a', 'a', 'def']\n",
    "\n",
    "counter = defaultdict(int)\n",
    "for item in items:\n",
    "    counter[item] += 1\n",
    "\n",
    "counter"
   ]
  },
  {
   "cell_type": "code",
   "execution_count": null,
   "metadata": {},
   "outputs": [],
   "source": [
    "items = ['a', 'b', 'a', 'a', 'def']\n",
    "\n",
    "counter_dict = {}\n",
    "for item in items:\n",
    "    counter_dict[item] = counter_dict.get(item, 0) + 1\n",
    "\n",
    "counter_dict"
   ]
  },
  {
   "cell_type": "markdown",
   "metadata": {},
   "source": [
    "## Advanced Classes"
   ]
  },
  {
   "cell_type": "markdown",
   "metadata": {},
   "source": [
    "### `__repr__` Method\n",
    "\n",
    "The `__repr__` method should return a string that, when passed to `eval()`, would create an object with the same internal state as the original object. It's mainly intended for debugging and development."
   ]
  },
  {
   "cell_type": "code",
   "execution_count": null,
   "metadata": {},
   "outputs": [],
   "source": [
    "class Point:\n",
    "    def __init__(self, x, y):\n",
    "        self.x = x\n",
    "        self.y = y\n",
    "\n",
    "    def __repr__(self):\n",
    "        return f\"Point({self.x}, {self.y})\"\n",
    "\n",
    "p = Point(2, 3)\n",
    "print(repr(p))"
   ]
  },
  {
   "cell_type": "code",
   "execution_count": null,
   "metadata": {},
   "outputs": [],
   "source": [
    "z = Point(2, 3)\n",
    "z"
   ]
  },
  {
   "cell_type": "markdown",
   "metadata": {},
   "source": [
    "### `__str__` Method\n",
    "\n",
    "The `__str__` method returns a string that provides an \"informal\" or nicely printable representation of the object. This makes the object's printout more human-readable."
   ]
  },
  {
   "cell_type": "code",
   "execution_count": null,
   "metadata": {},
   "outputs": [],
   "source": [
    "class Point:\n",
    "    def __init__(self, x, y):\n",
    "        self.x = x\n",
    "        self.y = y\n",
    "\n",
    "    def __repr__(self):\n",
    "        return f\"Point({self.x}, {self.y})\"\n",
    "\n",
    "    def __str__(self):\n",
    "        return f\"A point at x={self.x} and y={self.y}\"\n",
    "\n",
    "p = Point(2, 3)\n",
    "print(p)"
   ]
  },
  {
   "cell_type": "markdown",
   "metadata": {},
   "source": [
    "### `__dict__`\n",
    "\n",
    "The `__dict__` attribute contains an objects attributes."
   ]
  },
  {
   "cell_type": "code",
   "execution_count": null,
   "metadata": {},
   "outputs": [],
   "source": [
    "p.__dict__"
   ]
  },
  {
   "cell_type": "code",
   "execution_count": null,
   "metadata": {},
   "outputs": [],
   "source": [
    "p.x"
   ]
  },
  {
   "cell_type": "code",
   "execution_count": null,
   "metadata": {},
   "outputs": [],
   "source": [
    "# p.x translates into:\n",
    "p.__dict__['x']"
   ]
  },
  {
   "cell_type": "code",
   "execution_count": null,
   "metadata": {},
   "outputs": [],
   "source": [
    "# p.x = 100 translates into:\n",
    "p.__dict__['x'] = 100\n",
    "p"
   ]
  },
  {
   "cell_type": "code",
   "execution_count": null,
   "metadata": {},
   "outputs": [],
   "source": [
    "p.z = 5\n",
    "p.__dict__"
   ]
  },
  {
   "cell_type": "code",
   "execution_count": null,
   "metadata": {},
   "outputs": [],
   "source": [
    "# If I make a typo, a new attribute is created\n",
    "p.X = 5\n",
    "p.__dict__"
   ]
  },
  {
   "cell_type": "markdown",
   "metadata": {},
   "source": [
    "This means that an object's memory space cannot be fixed upfront, because the attributes can be modified or extended by changing the object's `__dict__`."
   ]
  },
  {
   "cell_type": "markdown",
   "metadata": {},
   "source": [
    "### Slots"
   ]
  },
  {
   "cell_type": "markdown",
   "metadata": {},
   "source": [
    "__slots__ in Python constrains object attributes to a fixed set, eliminating the memory overhead associated with the dynamic per-instance __dict__. This leads to more memory-efficient storage of objects. In a data engineering context, where you often work with large data sets or many instances of custom classes, using __slots__ can significantly reduce memory footprint and improve performance during data transformations and manipulations."
   ]
  },
  {
   "cell_type": "code",
   "execution_count": null,
   "metadata": {},
   "outputs": [],
   "source": [
    "from pympler.asizeof import asizeof\n",
    "\n",
    "class WithoutSlots:\n",
    "    def __init__(self, name, age):\n",
    "        self.name = name\n",
    "        self.age = age\n",
    "\n",
    "class WithSlots:\n",
    "    __slots__ = ['name', 'age']\n",
    "    def __init__(self, name, age):\n",
    "        self.name = name\n",
    "        self.age = age\n",
    "\n",
    "obj1 = WithoutSlots('Alice', 30)\n",
    "obj2 = WithSlots('Bob', 40)\n",
    "\n",
    "print(f\"Size without slots (obj1): {asizeof(obj1)} bytes\")\n",
    "print(f\"Size with slots    (obj2): {asizeof(obj2)} bytes\")"
   ]
  },
  {
   "cell_type": "code",
   "execution_count": null,
   "metadata": {},
   "outputs": [],
   "source": [
    "obj1.Age = 31\n",
    "asizeof(obj1)"
   ]
  },
  {
   "cell_type": "code",
   "execution_count": null,
   "metadata": {},
   "outputs": [],
   "source": [
    "obj1.__dict__"
   ]
  },
  {
   "cell_type": "code",
   "execution_count": null,
   "metadata": {},
   "outputs": [],
   "source": [
    "obj2.Age = 41"
   ]
  },
  {
   "cell_type": "markdown",
   "metadata": {},
   "source": [
    "The **advantages** of `__slots__` in a nutshell:\n",
    "- Memory space\n",
    "- Faster lookup of attributes\n",
    "- Prevents from accidentally creating new attributes (typos)"
   ]
  },
  {
   "cell_type": "markdown",
   "metadata": {},
   "source": [
    "### Data Classes"
   ]
  },
  {
   "cell_type": "markdown",
   "metadata": {},
   "source": [
    "Data classes in Python automatically generate special methods like `__init__`, `__repr__`, and `__eq__`. They make it easier to create classes for storing data. In data engineering, this simplifies the definition of complex data structures."
   ]
  },
  {
   "cell_type": "markdown",
   "metadata": {},
   "source": [
    "#### Without Data Classes:"
   ]
  },
  {
   "cell_type": "code",
   "execution_count": null,
   "metadata": {},
   "outputs": [],
   "source": [
    "class Point:\n",
    "    def __init__(self, x, y):\n",
    "        self.x = x\n",
    "        self.y = y\n",
    "\n",
    "    def __repr__(self):\n",
    "        return f\"DataPoint(x={self.x}, y={self.y})\"\n",
    "\n",
    "    # def __eq__(self, other):\n",
    "    #     return self.x == other.x and self.y == other.y\n"
   ]
  },
  {
   "cell_type": "code",
   "execution_count": null,
   "metadata": {},
   "outputs": [],
   "source": [
    "a = Point(1, 4)\n",
    "a"
   ]
  },
  {
   "cell_type": "code",
   "execution_count": null,
   "metadata": {},
   "outputs": [],
   "source": [
    "b = Point(1, 4)\n",
    "a == b"
   ]
  },
  {
   "cell_type": "markdown",
   "metadata": {},
   "source": [
    "#### With Data Classes:"
   ]
  },
  {
   "cell_type": "code",
   "execution_count": null,
   "metadata": {},
   "outputs": [],
   "source": [
    "from dataclasses import dataclass\n",
    "\n",
    "@dataclass\n",
    "class DataPoint:\n",
    "    x: int\n",
    "    y: int"
   ]
  },
  {
   "cell_type": "code",
   "execution_count": null,
   "metadata": {},
   "outputs": [],
   "source": [
    "c = DataPoint(1, 4)\n",
    "c"
   ]
  },
  {
   "cell_type": "code",
   "execution_count": null,
   "metadata": {},
   "outputs": [],
   "source": [
    "d = DataPoint(1, 4)\n",
    "c == d"
   ]
  },
  {
   "cell_type": "markdown",
   "metadata": {},
   "source": [
    "### Abstract Base Classes (ABCs)"
   ]
  },
  {
   "cell_type": "markdown",
   "metadata": {},
   "source": [
    "Abstract Base Classes define a set of methods and properties that a class must implement, but don't provide implementations. They allow you to set up a blueprint for other classes, ensuring a consistent interface. In data engineering, they can be used to define interfaces for plug-and-play components in a pipeline."
   ]
  },
  {
   "cell_type": "code",
   "execution_count": null,
   "metadata": {},
   "outputs": [],
   "source": [
    "# Code Block\n",
    "from abc import ABC, abstractmethod\n",
    "\n",
    "class DataProcessor(ABC):\n",
    "    @abstractmethod\n",
    "    def process(self, data):\n",
    "        pass\n",
    "\n",
    "class MyProcessor(DataProcessor):\n",
    "    pass\n",
    "    # def process(self, data):\n",
    "    #     print(f\"Processing {data}\")\n",
    "\n",
    "\n",
    "processor = MyProcessor()\n",
    "processor.process(\"some data\")  # Output: Processing some data"
   ]
  },
  {
   "cell_type": "markdown",
   "metadata": {},
   "source": [
    "So, this doesn't work, unless we uncomment the lines that define the process method."
   ]
  },
  {
   "cell_type": "markdown",
   "metadata": {},
   "source": [
    "Data classes make it easier to manage data in a structured form, while ABCs ensure that certain classes adhere to a specific contract, making your data engineering pipelines more modular and easier to understand."
   ]
  }
 ],
 "metadata": {
  "kernelspec": {
   "display_name": "Python 3",
   "language": "python",
   "name": "python3"
  }
 },
 "nbformat": 4,
 "nbformat_minor": 4
}
